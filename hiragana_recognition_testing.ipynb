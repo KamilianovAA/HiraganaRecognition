{
  "nbformat": 4,
  "nbformat_minor": 0,
  "metadata": {
    "colab": {
      "provenance": [],
      "authorship_tag": "ABX9TyMlqccsZHI6NBueKPqKKqQM",
      "include_colab_link": true
    },
    "kernelspec": {
      "name": "python3",
      "display_name": "Python 3"
    },
    "language_info": {
      "name": "python"
    }
  },
  "cells": [
    {
      "cell_type": "markdown",
      "metadata": {
        "id": "view-in-github",
        "colab_type": "text"
      },
      "source": [
        "<a href=\"https://colab.research.google.com/github/KamilianovAA/HiraganaRecognition/blob/master/hiragana_recognition_testing.ipynb\" target=\"_parent\"><img src=\"https://colab.research.google.com/assets/colab-badge.svg\" alt=\"Open In Colab\"/></a>"
      ]
    },
    {
      "cell_type": "code",
      "execution_count": 41,
      "metadata": {
        "id": "VDVIhv0skhOB"
      },
      "outputs": [],
      "source": [
        "import numpy as np\n",
        "import tensorflow as tf\n",
        "import cv2\n",
        "import pandas as pd\n",
        "from google.colab.patches import cv2_imshow"
      ]
    },
    {
      "cell_type": "code",
      "source": [
        "model = tf.keras.models.load_model('hiragana_model.h5')"
      ],
      "metadata": {
        "id": "DpmdIMRxil2S"
      },
      "execution_count": 2,
      "outputs": []
    },
    {
      "cell_type": "code",
      "source": [
        "#row = -1 if you're not using test.png\n",
        "def prepare(filepath, row, col):\n",
        "  img = cv2.imread(filepath, cv2.IMREAD_GRAYSCALE)\n",
        "  if row != -1:\n",
        "    img = img[6 + row * 28 : 6 + (row + 1) * 28, 6 + col * 28 : 6 + (col + 1) * 28]\n",
        "  resized = cv2.resize(img, dsize=(28,28))  \n",
        "  cv2_imshow(img)\n",
        "  return resized.reshape(-1, 28, 28, 1)\n",
        "\n",
        "df = pd.read_csv('k49_classmap.csv')\n",
        "arr = df.to_numpy()"
      ],
      "metadata": {
        "id": "eM1tMJ9rjhLb"
      },
      "execution_count": 83,
      "outputs": []
    },
    {
      "cell_type": "code",
      "source": [
        "test = prepare('test.png', 0, 0)\n",
        "print(test.shape)\n",
        "predictions = model.predict([test])\n",
        "for i in range(49):\n",
        "  print(f\"{arr[i, 2]} - {predictions[0, i]}\")"
      ],
      "metadata": {
        "colab": {
          "base_uri": "https://localhost:8080/",
          "height": 930
        },
        "id": "c0C5PaCx4qHh",
        "outputId": "c85d0f71-8d81-45ef-e07a-152cf89cf8e2"
      },
      "execution_count": 76,
      "outputs": [
        {
          "output_type": "display_data",
          "data": {
            "text/plain": [
              "<PIL.Image.Image image mode=L size=28x28 at 0x7F65CEF037C0>"
            ],
            "image/png": "[encoded data removed]"
          },
          "metadata": {}
        },
        {
          "output_type": "stream",
          "name": "stdout",
          "text": [
            "(1, 28, 28, 1)\n",
            "1/1 [==============================] - 0s 14ms/step\n",
            "あ - 0.0\n",
            "い - 0.0\n",
            "う - 0.0\n",
            "え - 0.0\n",
            "お - 1.0\n",
            "か - 0.0\n",
            "き - 0.0\n",
            "く - 0.0\n",
            "け - 0.0\n",
            "こ - 0.0\n",
            "さ - 0.0\n",
            "し - 0.0\n",
            "す - 0.0\n",
            "せ - 0.0\n",
            "そ - 0.0\n",
            "た - 0.0\n",
            "ち - 0.0\n",
            "つ - 0.0\n",
            "て - 0.0\n",
            "と - 0.0\n",
            "な - 0.0\n",
            "に - 0.0\n",
            "ぬ - 0.0\n",
            "ね - 0.0\n",
            "の - 0.0\n",
            "は - 0.0\n",
            "ひ - 0.0\n",
            "ふ - 0.0\n",
            "へ - 0.0\n",
            "ほ - 0.0\n",
            "ま - 0.0\n",
            "み - 0.0\n",
            "む - 0.0\n",
            "め - 0.0\n",
            "も - 0.0\n",
            "や - 0.0\n",
            "ゆ - 0.0\n",
            "よ - 0.0\n",
            "ら - 0.0\n",
            "り - 0.0\n",
            "る - 0.0\n",
            "れ - 0.0\n",
            "ろ - 0.0\n",
            "わ - 0.0\n",
            "ゐ - 0.0\n",
            "ゑ - 0.0\n",
            "を - 0.0\n",
            "ん - 0.0\n",
            "ゝ - 0.0\n"
          ]
        }
      ]
    },
    {
      "cell_type": "code",
      "source": [
        "test = prepare('test.png', 1, 2)\n",
        "print(test.shape)\n",
        "predictions = model.predict([test])\n",
        "for i in range(49):\n",
        "  print(f\"{arr[i, 2]} - {predictions[0, i]}\")"
      ],
      "metadata": {
        "colab": {
          "base_uri": "https://localhost:8080/",
          "height": 930
        },
        "id": "AU4vHhtu8d3D",
        "outputId": "aaed207f-dd32-4fee-b9bd-eed8a46bc168"
      },
      "execution_count": 77,
      "outputs": [
        {
          "output_type": "display_data",
          "data": {
            "text/plain": [
              "<PIL.Image.Image image mode=L size=28x28 at 0x7F65CF0E61C0>"
            ],
            "image/png": "[encoded data removed]"
          },
          "metadata": {}
        },
        {
          "output_type": "stream",
          "name": "stdout",
          "text": [
            "(1, 28, 28, 1)\n",
            "1/1 [==============================] - 0s 15ms/step\n",
            "あ - 0.0\n",
            "い - 0.0\n",
            "う - 0.0\n",
            "え - 0.0\n",
            "お - 0.0\n",
            "か - 0.0\n",
            "き - 1.0\n",
            "く - 0.0\n",
            "け - 0.0\n",
            "こ - 0.0\n",
            "さ - 0.0\n",
            "し - 0.0\n",
            "す - 0.0\n",
            "せ - 0.0\n",
            "そ - 0.0\n",
            "た - 0.0\n",
            "ち - 0.0\n",
            "つ - 0.0\n",
            "て - 0.0\n",
            "と - 0.0\n",
            "な - 0.0\n",
            "に - 0.0\n",
            "ぬ - 0.0\n",
            "ね - 0.0\n",
            "の - 0.0\n",
            "は - 0.0\n",
            "ひ - 0.0\n",
            "ふ - 0.0\n",
            "へ - 0.0\n",
            "ほ - 0.0\n",
            "ま - 0.0\n",
            "み - 0.0\n",
            "む - 0.0\n",
            "め - 0.0\n",
            "も - 0.0\n",
            "や - 0.0\n",
            "ゆ - 0.0\n",
            "よ - 0.0\n",
            "ら - 0.0\n",
            "り - 0.0\n",
            "る - 0.0\n",
            "れ - 0.0\n",
            "ろ - 0.0\n",
            "わ - 0.0\n",
            "ゐ - 0.0\n",
            "ゑ - 0.0\n",
            "を - 0.0\n",
            "ん - 0.0\n",
            "ゝ - 0.0\n"
          ]
        }
      ]
    },
    {
      "cell_type": "code",
      "source": [
        "test = prepare('test.png', 6, 5)\n",
        "print(test.shape)\n",
        "predictions = model.predict([test])\n",
        "for i in range(49):\n",
        "  print(f\"{arr[i, 2]} - {predictions[0, i]}\")"
      ],
      "metadata": {
        "colab": {
          "base_uri": "https://localhost:8080/",
          "height": 930
        },
        "id": "xOdOCZSF-3xu",
        "outputId": "9a092f98-d4d3-4fa2-ee87-ad8b48f5579b"
      },
      "execution_count": 78,
      "outputs": [
        {
          "output_type": "display_data",
          "data": {
            "text/plain": [
              "<PIL.Image.Image image mode=L size=28x28 at 0x7F65CEBA9A60>"
            ],
            "image/png": "[encoded data removed]"
          },
          "metadata": {}
        },
        {
          "output_type": "stream",
          "name": "stdout",
          "text": [
            "(1, 28, 28, 1)\n",
            "1/1 [==============================] - 0s 15ms/step\n",
            "あ - 0.0\n",
            "い - 0.0\n",
            "う - 0.0\n",
            "え - 0.0\n",
            "お - 0.0\n",
            "か - 0.0\n",
            "き - 0.0\n",
            "く - 0.0\n",
            "け - 0.0\n",
            "こ - 0.0\n",
            "さ - 0.0\n",
            "し - 0.0\n",
            "す - 0.0\n",
            "せ - 0.0\n",
            "そ - 0.0\n",
            "た - 0.0\n",
            "ち - 0.0\n",
            "つ - 0.0\n",
            "て - 0.0\n",
            "と - 0.0\n",
            "な - 0.0\n",
            "に - 0.0\n",
            "ぬ - 0.0\n",
            "ね - 0.0\n",
            "の - 0.0\n",
            "は - 0.0\n",
            "ひ - 0.0\n",
            "ふ - 0.0\n",
            "へ - 0.0\n",
            "ほ - 0.0\n",
            "ま - 1.0\n",
            "み - 0.0\n",
            "む - 0.0\n",
            "め - 0.0\n",
            "も - 0.0\n",
            "や - 0.0\n",
            "ゆ - 0.0\n",
            "よ - 0.0\n",
            "ら - 0.0\n",
            "り - 0.0\n",
            "る - 0.0\n",
            "れ - 0.0\n",
            "ろ - 0.0\n",
            "わ - 0.0\n",
            "ゐ - 0.0\n",
            "ゑ - 0.0\n",
            "を - 0.0\n",
            "ん - 0.0\n",
            "ゝ - 0.0\n"
          ]
        }
      ]
    },
    {
      "cell_type": "code",
      "source": [
        "test = prepare('test2.png', -1, -1)\n",
        "print(test.shape)\n",
        "predictions = model.predict([test])\n",
        "for i in range(49):\n",
        "  print(f\"{arr[i, 2]} - {predictions[0, i]}\")"
      ],
      "metadata": {
        "colab": {
          "base_uri": "https://localhost:8080/",
          "height": 930
        },
        "id": "dp_zj85tCYJn",
        "outputId": "9e8569ab-248b-4930-b5aa-f6255f8d743f"
      },
      "execution_count": 80,
      "outputs": [
        {
          "output_type": "display_data",
          "data": {
            "text/plain": [
              "<PIL.Image.Image image mode=L size=28x28 at 0x7F65CEF03640>"
            ],
            "image/png": "[encoded data removed]"
          },
          "metadata": {}
        },
        {
          "output_type": "stream",
          "name": "stdout",
          "text": [
            "(1, 28, 28, 1)\n",
            "1/1 [==============================] - 0s 13ms/step\n",
            "あ - 0.0\n",
            "い - 0.0\n",
            "う - 0.0\n",
            "え - 0.0\n",
            "お - 0.0\n",
            "か - 0.0\n",
            "き - 0.0\n",
            "く - 0.0\n",
            "け - 0.0\n",
            "こ - 0.0\n",
            "さ - 0.0\n",
            "し - 0.0\n",
            "す - 0.0\n",
            "せ - 0.0\n",
            "そ - 0.0\n",
            "た - 0.0\n",
            "ち - 0.0\n",
            "つ - 0.0\n",
            "て - 0.0\n",
            "と - 0.0\n",
            "な - 0.0\n",
            "に - 0.0\n",
            "ぬ - 0.0\n",
            "ね - 0.0\n",
            "の - 0.0\n",
            "は - 0.0\n",
            "ひ - 0.0\n",
            "ふ - 0.0\n",
            "へ - 0.0\n",
            "ほ - 0.0\n",
            "ま - 0.0\n",
            "み - 0.0\n",
            "む - 0.0\n",
            "め - 0.0\n",
            "も - 0.0\n",
            "や - 0.0\n",
            "ゆ - 0.0\n",
            "よ - 1.0\n",
            "ら - 0.0\n",
            "り - 0.0\n",
            "る - 0.0\n",
            "れ - 0.0\n",
            "ろ - 0.0\n",
            "わ - 0.0\n",
            "ゐ - 0.0\n",
            "ゑ - 0.0\n",
            "を - 0.0\n",
            "ん - 0.0\n",
            "ゝ - 0.0\n"
          ]
        }
      ]
    },
    {
      "cell_type": "code",
      "source": [
        "test = prepare('test3.png', -1, -1)\n",
        "print(test.shape)\n",
        "predictions = model.predict([test])\n",
        "for i in range(49):\n",
        "  print(f\"{arr[i, 2]} - {predictions[0, i]}\")"
      ],
      "metadata": {
        "colab": {
          "base_uri": "https://localhost:8080/",
          "height": 950
        },
        "id": "SCSmpvsnDxGC",
        "outputId": "e2251563-a159-46a3-bfba-d0f4e55294d2"
      },
      "execution_count": 81,
      "outputs": [
        {
          "output_type": "display_data",
          "data": {
            "text/plain": [
              "<PIL.Image.Image image mode=L size=48x48 at 0x7F65CEB2F700>"
            ],
            "image/png": "[encoded data removed]"
          },
          "metadata": {}
        },
        {
          "output_type": "stream",
          "name": "stdout",
          "text": [
            "(1, 28, 28, 1)\n",
            "1/1 [==============================] - 0s 14ms/step\n",
            "あ - 0.0\n",
            "い - 0.0\n",
            "う - 0.0\n",
            "え - 0.0\n",
            "お - 0.0\n",
            "か - 0.0\n",
            "き - 0.0\n",
            "く - 0.0\n",
            "け - 0.0\n",
            "こ - 0.0\n",
            "さ - 0.0\n",
            "し - 0.0\n",
            "す - 0.0\n",
            "せ - 0.0\n",
            "そ - 0.0\n",
            "た - 0.0\n",
            "ち - 0.0\n",
            "つ - 0.0\n",
            "て - 0.0\n",
            "と - 0.0\n",
            "な - 0.0\n",
            "に - 0.0\n",
            "ぬ - 0.0\n",
            "ね - 0.0\n",
            "の - 0.0\n",
            "は - 0.0\n",
            "ひ - 0.0\n",
            "ふ - 0.0\n",
            "へ - 0.0\n",
            "ほ - 0.0\n",
            "ま - 1.0\n",
            "み - 0.0\n",
            "む - 0.0\n",
            "め - 0.0\n",
            "も - 0.0\n",
            "や - 0.0\n",
            "ゆ - 0.0\n",
            "よ - 0.0\n",
            "ら - 0.0\n",
            "り - 0.0\n",
            "る - 0.0\n",
            "れ - 0.0\n",
            "ろ - 0.0\n",
            "わ - 0.0\n",
            "ゐ - 0.0\n",
            "ゑ - 0.0\n",
            "を - 0.0\n",
            "ん - 0.0\n",
            "ゝ - 0.0\n"
          ]
        }
      ]
    },
    {
      "cell_type": "code",
      "source": [
        "test = prepare('test4.png', -1, -1)\n",
        "print(test.shape)\n",
        "predictions = model.predict([test])\n",
        "for i in range(49):\n",
        "  print(f\"{arr[i, 2]} - {predictions[0, i]}\")"
      ],
      "metadata": {
        "colab": {
          "base_uri": "https://localhost:8080/",
          "height": 1000
        },
        "id": "fxZSd2H3E9JY",
        "outputId": "5f516efb-c8d5-4663-d745-db083b5e763c"
      },
      "execution_count": 82,
      "outputs": [
        {
          "output_type": "display_data",
          "data": {
            "text/plain": [
              "<PIL.Image.Image image mode=L size=100x100 at 0x7F65CEB99C40>"
            ],
            "image/png": "[encoded data removed]"
          },
          "metadata": {}
        },
        {
          "output_type": "stream",
          "name": "stdout",
          "text": [
            "(1, 28, 28, 1)\n",
            "1/1 [==============================] - 0s 14ms/step\n",
            "あ - 0.0\n",
            "い - 0.0\n",
            "う - 0.0\n",
            "え - 0.0\n",
            "お - 0.0\n",
            "か - 0.0\n",
            "き - 1.0\n",
            "く - 0.0\n",
            "け - 0.0\n",
            "こ - 0.0\n",
            "さ - 0.0\n",
            "し - 0.0\n",
            "す - 0.0\n",
            "せ - 0.0\n",
            "そ - 0.0\n",
            "た - 0.0\n",
            "ち - 0.0\n",
            "つ - 0.0\n",
            "て - 0.0\n",
            "と - 0.0\n",
            "な - 0.0\n",
            "に - 0.0\n",
            "ぬ - 0.0\n",
            "ね - 0.0\n",
            "の - 0.0\n",
            "は - 0.0\n",
            "ひ - 0.0\n",
            "ふ - 0.0\n",
            "へ - 0.0\n",
            "ほ - 0.0\n",
            "ま - 0.0\n",
            "み - 0.0\n",
            "む - 0.0\n",
            "め - 0.0\n",
            "も - 0.0\n",
            "や - 0.0\n",
            "ゆ - 0.0\n",
            "よ - 0.0\n",
            "ら - 0.0\n",
            "り - 0.0\n",
            "る - 0.0\n",
            "れ - 0.0\n",
            "ろ - 0.0\n",
            "わ - 0.0\n",
            "ゐ - 0.0\n",
            "ゑ - 0.0\n",
            "を - 0.0\n",
            "ん - 0.0\n",
            "ゝ - 0.0\n"
          ]
        }
      ]
    }
  ]
}