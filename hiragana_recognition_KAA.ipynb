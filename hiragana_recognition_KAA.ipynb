{
  "nbformat": 4,
  "nbformat_minor": 0,
  "metadata": {
    "colab": {
      "provenance": [],
      "authorship_tag": "ABX9TyOPZVNM3xCYjG8AysARYiNa",
      "include_colab_link": true
    },
    "kernelspec": {
      "name": "python3",
      "display_name": "Python 3"
    },
    "language_info": {
      "name": "python"
    }
  },
  "cells": [
    {
      "cell_type": "markdown",
      "metadata": {
        "id": "view-in-github",
        "colab_type": "text"
      },
      "source": [
        "<a href=\"https://colab.research.google.com/github/KamilianovAA/HiraganaRecognition/blob/master/hiragana_recognition_KAA.ipynb\" target=\"_parent\"><img src=\"https://colab.research.google.com/assets/colab-badge.svg\" alt=\"Open In Colab\"/></a>"
      ]
    },
    {
      "cell_type": "code",
      "source": [
        "from __future__ import print_function\n",
        "from tensorflow import keras\n",
        "from keras.models import Sequential\n",
        "from keras.layers import Dense, Dropout, Flatten\n",
        "from keras.layers import Conv2D, MaxPooling2D, BatchNormalization\n",
        "from keras import backend as K\n",
        "import numpy as np\n",
        "import tensorflow_hub as hub"
      ],
      "metadata": {
        "id": "hpIX85A0Pcz-"
      },
      "execution_count": 1,
      "outputs": []
    },
    {
      "cell_type": "code",
      "execution_count": 2,
      "metadata": {
        "id": "57Ap8WAvkzci",
        "colab": {
          "base_uri": "https://localhost:8080/"
        },
        "outputId": "54d49b97-c70e-475c-89ee-7faff7605ead"
      },
      "outputs": [
        {
          "output_type": "stream",
          "name": "stdout",
          "text": [
            "232365 train samples, 38547 test samples\n"
          ]
        }
      ],
      "source": [
        "batch_size = 128\n",
        "num_classes = 49\n",
        "epochs = 7\n",
        "\n",
        "# input image dimensions\n",
        "img_rows, img_cols = 28, 28\n",
        "path = './sample_data/'\n",
        "\n",
        "def load(f):\n",
        "    return np.load(f)['arr_0']\n",
        "\n",
        "# Load the data\n",
        "x_train = load(path + 'k49-train-imgs.npz')\n",
        "x_test = load(path + 'k49-test-imgs.npz')\n",
        "y_train = load(path + 'k49-train-labels.npz')\n",
        "y_test = load(path + 'k49-test-labels.npz')\n",
        "\n",
        "if K.image_data_format() == 'channels_first':\n",
        "    x_train = x_train.reshape(x_train.shape[0], 1, img_rows, img_cols)\n",
        "    x_test = x_test.reshape(x_test.shape[0], 1, img_rows, img_cols)\n",
        "    input_shape = (1, img_rows, img_cols)\n",
        "else:\n",
        "    x_train = x_train.reshape(x_train.shape[0], img_rows, img_cols, 1)\n",
        "    x_test = x_test.reshape(x_test.shape[0], img_rows, img_cols, 1)\n",
        "    input_shape = (img_rows, img_cols, 1)\n",
        "\n",
        "x_train = x_train.astype('float32')\n",
        "x_test = x_test.astype('float32')\n",
        "x_train /= 255\n",
        "x_test /= 255\n",
        "print('{} train samples, {} test samples'.format(len(x_train), len(x_test)))"
      ]
    },
    {
      "cell_type": "code",
      "source": [
        "# Convert class vectors to binary class matrices\n",
        "y_train = keras.utils.to_categorical(y_train, num_classes)\n",
        "y_test = keras.utils.to_categorical(y_test, num_classes)"
      ],
      "metadata": {
        "id": "GfrJ-9NLft4O"
      },
      "execution_count": 3,
      "outputs": []
    },
    {
      "cell_type": "code",
      "source": [
        "model = Sequential()\n",
        "model.add(Conv2D(32, kernel_size=(3, 3),\n",
        "                 activation='relu',\n",
        "                 input_shape=input_shape))\n",
        "model.add(Conv2D(64, (3, 3), activation='relu'))\n",
        "model.add(MaxPooling2D(pool_size=(2, 2)))\n",
        "model.add(Dropout(0.25))\n",
        "model.add(Flatten())\n",
        "model.add(Dense(128, activation='relu'))\n",
        "model.add(Dropout(0.5))\n",
        "model.add(Dense(num_classes, activation='softmax'))\n",
        "\n",
        "model.compile(loss=keras.losses.categorical_crossentropy,\n",
        "              optimizer=keras.optimizers.Adam(),\n",
        "              metrics=['accuracy'])"
      ],
      "metadata": {
        "id": "57HzM-aUPnKC"
      },
      "execution_count": 15,
      "outputs": []
    },
    {
      "cell_type": "code",
      "source": [
        "model.summary()"
      ],
      "metadata": {
        "colab": {
          "base_uri": "https://localhost:8080/"
        },
        "id": "VjL1VXTjaK74",
        "outputId": "5e0e03c9-3a04-44a8-c840-93bf567f9d19"
      },
      "execution_count": 16,
      "outputs": [
        {
          "output_type": "stream",
          "name": "stdout",
          "text": [
            "Model: \"sequential_2\"\n",
            "_________________________________________________________________\n",
            " Layer (type)                Output Shape              Param #   \n",
            "=================================================================\n",
            " conv2d_2 (Conv2D)           (None, 26, 26, 32)        320       \n",
            "                                                                 \n",
            " conv2d_3 (Conv2D)           (None, 24, 24, 64)        18496     \n",
            "                                                                 \n",
            " max_pooling2d_1 (MaxPooling  (None, 12, 12, 64)       0         \n",
            " 2D)                                                             \n",
            "                                                                 \n",
            " dropout_2 (Dropout)         (None, 12, 12, 64)        0         \n",
            "                                                                 \n",
            " flatten_1 (Flatten)         (None, 9216)              0         \n",
            "                                                                 \n",
            " dense_3 (Dense)             (None, 128)               1179776   \n",
            "                                                                 \n",
            " dropout_3 (Dropout)         (None, 128)               0         \n",
            "                                                                 \n",
            " dense_4 (Dense)             (None, 49)                6321      \n",
            "                                                                 \n",
            "=================================================================\n",
            "Total params: 1,204,913\n",
            "Trainable params: 1,204,913\n",
            "Non-trainable params: 0\n",
            "_________________________________________________________________\n"
          ]
        }
      ]
    },
    {
      "cell_type": "code",
      "source": [
        "model.fit(x_train, y_train,\n",
        "          batch_size=batch_size,\n",
        "          epochs=epochs,\n",
        "          verbose=1,\n",
        "          validation_data=(x_test, y_test))"
      ],
      "metadata": {
        "colab": {
          "base_uri": "https://localhost:8080/"
        },
        "id": "7jX-fWB0aTch",
        "outputId": "7cc5de36-a4c4-40a4-fe04-5b3d5eb8a4ca"
      },
      "execution_count": 17,
      "outputs": [
        {
          "output_type": "stream",
          "name": "stdout",
          "text": [
            "Epoch 1/7\n",
            "1816/1816 [==============================] - 621s 342ms/step - loss: 0.9402 - accuracy: 0.7503 - val_loss: 0.6479 - val_accuracy: 0.8272\n",
            "Epoch 2/7\n",
            "1816/1816 [==============================] - 623s 343ms/step - loss: 0.5269 - accuracy: 0.8551 - val_loss: 0.5019 - val_accuracy: 0.8663\n",
            "Epoch 3/7\n",
            "1816/1816 [==============================] - 612s 337ms/step - loss: 0.4263 - accuracy: 0.8812 - val_loss: 0.4417 - val_accuracy: 0.8840\n",
            "Epoch 4/7\n",
            "1816/1816 [==============================] - 631s 348ms/step - loss: 0.3688 - accuracy: 0.8957 - val_loss: 0.4023 - val_accuracy: 0.8940\n",
            "Epoch 5/7\n",
            "1816/1816 [==============================] - 623s 343ms/step - loss: 0.3330 - accuracy: 0.9045 - val_loss: 0.3822 - val_accuracy: 0.9006\n",
            "Epoch 6/7\n",
            "1816/1816 [==============================] - 621s 342ms/step - loss: 0.3053 - accuracy: 0.9118 - val_loss: 0.3757 - val_accuracy: 0.9035\n",
            "Epoch 7/7\n",
            "1816/1816 [==============================] - 622s 342ms/step - loss: 0.2813 - accuracy: 0.9181 - val_loss: 0.3620 - val_accuracy: 0.9085\n"
          ]
        },
        {
          "output_type": "execute_result",
          "data": {
            "text/plain": [
              "<keras.callbacks.History at 0x7f8285f44d90>"
            ]
          },
          "metadata": {},
          "execution_count": 17
        }
      ]
    },
    {
      "cell_type": "code",
      "source": [
        "model = keras.models.load_model('hiragana_model.h5')"
      ],
      "metadata": {
        "id": "d3d67d1icpT9"
      },
      "execution_count": null,
      "outputs": []
    },
    {
      "cell_type": "code",
      "source": [
        "train_score = model.evaluate(x_train, y_train, verbose=0)\n",
        "test_score = model.evaluate(x_test, y_test, verbose=0)\n",
        "print('Train loss:', train_score[0])\n",
        "print('Train accuracy:', train_score[1])\n",
        "print('Test loss:', test_score[0])\n",
        "print('Test accuracy:', test_score[1])"
      ],
      "metadata": {
        "colab": {
          "base_uri": "https://localhost:8080/"
        },
        "id": "2bk9J-M3cw6U",
        "outputId": "215245a3-1851-4539-8576-5439f412fccd"
      },
      "execution_count": 19,
      "outputs": [
        {
          "output_type": "stream",
          "name": "stdout",
          "text": [
            "Train loss: 0.0852271243929863\n",
            "Train accuracy: 0.9766358733177185\n",
            "Test loss: 0.3620363771915436\n",
            "Test accuracy: 0.9084753394126892\n"
          ]
        }
      ]
    },
    {
      "cell_type": "code",
      "source": [
        "model.save('hiragana_model.h5')"
      ],
      "metadata": {
        "id": "6t2S32AEFNLS"
      },
      "execution_count": 18,
      "outputs": []
    }
  ]
}